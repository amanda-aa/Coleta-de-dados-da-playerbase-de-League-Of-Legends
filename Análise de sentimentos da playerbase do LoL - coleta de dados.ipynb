{
 "cells": [
  {
   "cell_type": "markdown",
   "id": "e35cc052",
   "metadata": {},
   "source": [
    "This is the first step to the sentiment analyzes project, using as major theme the dissatisfaction (or not) from the League of Legends playerbase with the game mode applied on the most recent event.\n",
    "Esse é o primeiro passo do projeto de análise de sentimentos, usando como tema principal a insatisfação (ou não) da base de jogadores de League of Legends com o modo de jogo aplicado no evento mais recente."
   ]
  },
  {
   "cell_type": "code",
   "execution_count": null,
   "id": "ff404735",
   "metadata": {},
   "outputs": [],
   "source": []
  },
  {
   "cell_type": "code",
   "execution_count": 1,
   "id": "e0052882",
   "metadata": {},
   "outputs": [],
   "source": [
    "import tweepy as tw\n",
    "import pandas as pd\n",
    "import matplotlib.pyplot as plt\n",
    "import numpy as np\n",
    "import sqlite3"
   ]
  },
  {
   "cell_type": "code",
   "execution_count": 2,
   "id": "510aabf3",
   "metadata": {},
   "outputs": [],
   "source": [
    "#to validate the access on twitter api // para validar o acesso a api do twitter\n",
    "with open ('twitter-tokens.txt', 'r') as tfile:\n",
    "    consumer_key = tfile.readline().strip('\\n')\n",
    "    consumer_secret = tfile.readline().strip('\\n')\n",
    "    access_token = tfile.readline().strip('\\n')\n",
    "    access_token_secret = tfile.readline().strip('\\n')\n",
    "    bearer_token = tfile.readline().strip('\\n')"
   ]
  },
  {
   "cell_type": "code",
   "execution_count": 3,
   "id": "37dbb419",
   "metadata": {},
   "outputs": [],
   "source": [
    "auth = tw.OAuth1UserHandler(consumer_key, consumer_secret)\n",
    "auth.set_access_token = (access_token, access_token_secret)\n",
    "\n",
    "api = tw.API(auth)"
   ]
  },
  {
   "cell_type": "code",
   "execution_count": 4,
   "id": "7a4b8f1c",
   "metadata": {},
   "outputs": [],
   "source": [
    "search_words = 'riot', 'urf'"
   ]
  },
  {
   "cell_type": "code",
   "execution_count": 5,
   "id": "65cc5c9c",
   "metadata": {},
   "outputs": [],
   "source": [
    " tweets = tw.Cursor(api.search_tweets, q = search_words).items(10)"
   ]
  },
  {
   "cell_type": "code",
   "execution_count": 6,
   "id": "e2366f1c",
   "metadata": {},
   "outputs": [
    {
     "name": "stdout",
     "output_type": "stream",
     "text": [
      "@Neri_Unlimited @ilovemysupp Los bots de Teemonio fue espectacular onsea te mataban y todo y te humillaban pero era… https://t.co/4kNtJeCoD1\n",
      "urf died the day riot stepped in and started balancing it, from overall balancing of champions, to removing certain… https://t.co/jP83BaIJwX\n",
      "The fact that Riot is releasing another Pick URF as the LTM for worlds is exhausting. The only time I’ve had fun  a… https://t.co/aTFEHhk8vE\n",
      "@ExasperatedDan @Thatdudeyuphim @VelconX15 In my opinion URF is kinda overused and boring after you played the newl… https://t.co/cjcUWJCmZp\n",
      "I'm boycotting the upcoming URF rotation. I'm sorry, but Riot, honey, you need to start listening to your players a… https://t.co/Mt1mZMgoOI\n",
      "@ExasperatedDan Thank you Riot 😍\n",
      "Only the URF player understands URF and loves it. Enough to spam it and want it to stay permanent.\n",
      "RIOT REWORKED URF! https://t.co/GSSWuyiB2I via @YouTube\n",
      "@SkoochLoL Riot Games re-releasing Urf, ARURF, or Ultimate Spellbook for the 15000th time (They ran out of budget t… https://t.co/BegXJSqayJ\n",
      "@fluffjwi2 Riot just wants us to forget League exists at this point. The worlds song sucks + the spirit blossom sca… https://t.co/pTPhO8OspP\n",
      "why tf is riot like\n",
      "lets bring back urf!! NO. BRING BACK NEXUS BLITZ.\n"
     ]
    }
   ],
   "source": [
    "for tweet in tweets:\n",
    "    print (tweet.text)"
   ]
  },
  {
   "cell_type": "code",
   "execution_count": 7,
   "id": "4ac2a89e",
   "metadata": {},
   "outputs": [],
   "source": [
    "cliente = tw.Client(bearer_token, consumer_key, consumer_secret, access_token, access_token_secret)"
   ]
  },
  {
   "cell_type": "code",
   "execution_count": 8,
   "id": "f350072f",
   "metadata": {},
   "outputs": [],
   "source": [
    "#conect the data collect to a database // conecta os dados coletados a uma base de dados\n",
    "con = sqlite3.connect('riot_playerbase.db')"
   ]
  },
  {
   "cell_type": "code",
   "execution_count": 9,
   "id": "44ae6e46",
   "metadata": {},
   "outputs": [],
   "source": [
    "cur = con.cursor()"
   ]
  },
  {
   "cell_type": "code",
   "execution_count": 10,
   "id": "d12775df",
   "metadata": {},
   "outputs": [],
   "source": [
    "start = '2022-09-18T04:00:00Z'\n",
    "end = '2022-09-20T10:00:00Z'\n",
    "\n",
    "resposta = cliente.search_recent_tweets(query='riot urf',max_results=100,start_time=start,end_time=end)"
   ]
  },
  {
   "cell_type": "code",
   "execution_count": 11,
   "id": "4453a356",
   "metadata": {},
   "outputs": [],
   "source": [
    "start = '2022-09-18T04:00:00Z'\n",
    "end = '2022-09-20T10:00:00Z'\n",
    "\n",
    "resposta3 = cliente.search_recent_tweets(query='riot nexus',max_results=100,start_time=start,end_time=end)"
   ]
  },
  {
   "cell_type": "code",
   "execution_count": 12,
   "id": "204311d5",
   "metadata": {},
   "outputs": [],
   "source": [
    "start = '2022-09-20T04:00:00Z'\n",
    "end = '2022-09-22T10:00:00Z'\n",
    "\n",
    "resposta2 = cliente.search_recent_tweets(query='riot urf',max_results=100,start_time=start,end_time=end)"
   ]
  },
  {
   "cell_type": "code",
   "execution_count": 13,
   "id": "93ac2265",
   "metadata": {},
   "outputs": [],
   "source": [
    "start = '2022-09-20T04:00:00Z'\n",
    "end = '2022-09-22T10:00:00Z'\n",
    "\n",
    "resposta4 = cliente.search_recent_tweets(query='riot nexus',max_results=100,start_time=start,end_time=end)"
   ]
  },
  {
   "cell_type": "markdown",
   "id": "5e79c3ed",
   "metadata": {},
   "source": [
    "Twitter api only permits my access to get 100 results maximum at each query. //\n",
    "Api do Twitter apenas permite meu acesso a obter 100 resultados por consulta."
   ]
  },
  {
   "cell_type": "code",
   "execution_count": 14,
   "id": "4866a2f3",
   "metadata": {},
   "outputs": [],
   "source": [
    "dados = resposta.data"
   ]
  },
  {
   "cell_type": "code",
   "execution_count": 15,
   "id": "f213e463",
   "metadata": {},
   "outputs": [],
   "source": [
    "#cur.execute('CREATE TABLE registros (texto TEXT,RT TEXT)')"
   ]
  },
  {
   "cell_type": "code",
   "execution_count": 16,
   "id": "f3062f76",
   "metadata": {},
   "outputs": [],
   "source": [
    "dados2 = resposta2.data"
   ]
  },
  {
   "cell_type": "code",
   "execution_count": 17,
   "id": "f53a18b2",
   "metadata": {},
   "outputs": [],
   "source": [
    "#cur.execute('CREATE TABLE registros2 (texto TEXT,RT TEXT)')"
   ]
  },
  {
   "cell_type": "code",
   "execution_count": 18,
   "id": "085e9043",
   "metadata": {},
   "outputs": [],
   "source": [
    "dados3 = resposta3.data"
   ]
  },
  {
   "cell_type": "code",
   "execution_count": 19,
   "id": "8efc9d69",
   "metadata": {},
   "outputs": [],
   "source": [
    "#cur.execute('CREATE TABLE registros3 (texto TEXT,RT TEXT)')"
   ]
  },
  {
   "cell_type": "code",
   "execution_count": 20,
   "id": "9912fe5f",
   "metadata": {},
   "outputs": [],
   "source": [
    "dados4 = resposta4.data"
   ]
  },
  {
   "cell_type": "code",
   "execution_count": 21,
   "id": "e06951f2",
   "metadata": {},
   "outputs": [],
   "source": [
    "#cur.execute('CREATE TABLE registros4 (texto TEXT,RT TEXT)')"
   ]
  },
  {
   "cell_type": "markdown",
   "id": "2102e2a9",
   "metadata": {},
   "source": [
    "The lines above are marked as comment to avoid errors, once the tables are already created. //\n",
    "As linhas acima estão marcadas como comentário para evitar erros, já que as tabelas já estão criadas."
   ]
  },
  {
   "cell_type": "code",
   "execution_count": 22,
   "id": "601e3554",
   "metadata": {},
   "outputs": [],
   "source": [
    "con.close()"
   ]
  },
  {
   "cell_type": "code",
   "execution_count": 25,
   "id": "7f87e6db",
   "metadata": {},
   "outputs": [],
   "source": [
    "dados = pd.DataFrame(dados)"
   ]
  },
  {
   "cell_type": "code",
   "execution_count": 26,
   "id": "1393572b",
   "metadata": {},
   "outputs": [],
   "source": [
    "dados2 = pd.DataFrame(dados2)"
   ]
  },
  {
   "cell_type": "code",
   "execution_count": 27,
   "id": "e3e1739e",
   "metadata": {},
   "outputs": [],
   "source": [
    "dados3 = pd.DataFrame(dados3)"
   ]
  },
  {
   "cell_type": "code",
   "execution_count": 28,
   "id": "4d5c0712",
   "metadata": {},
   "outputs": [],
   "source": [
    "dados4 = pd.DataFrame(dados4)"
   ]
  },
  {
   "cell_type": "code",
   "execution_count": 29,
   "id": "af2de3f6",
   "metadata": {},
   "outputs": [],
   "source": [
    "tabela = pd.concat([dados, dados2, dados3, dados4], axis=0)"
   ]
  },
  {
   "cell_type": "code",
   "execution_count": 33,
   "id": "f561c2bc",
   "metadata": {},
   "outputs": [
    {
     "data": {
      "text/plain": [
       "(298, 2)"
      ]
     },
     "execution_count": 33,
     "metadata": {},
     "output_type": "execute_result"
    }
   ],
   "source": [
    "tabela.shape"
   ]
  },
  {
   "cell_type": "code",
   "execution_count": 31,
   "id": "addba247",
   "metadata": {},
   "outputs": [
    {
     "data": {
      "text/html": [
       "<div>\n",
       "<style scoped>\n",
       "    .dataframe tbody tr th:only-of-type {\n",
       "        vertical-align: middle;\n",
       "    }\n",
       "\n",
       "    .dataframe tbody tr th {\n",
       "        vertical-align: top;\n",
       "    }\n",
       "\n",
       "    .dataframe thead th {\n",
       "        text-align: right;\n",
       "    }\n",
       "</style>\n",
       "<table border=\"1\" class=\"dataframe\">\n",
       "  <thead>\n",
       "    <tr style=\"text-align: right;\">\n",
       "      <th></th>\n",
       "      <th>id</th>\n",
       "      <th>text</th>\n",
       "    </tr>\n",
       "  </thead>\n",
       "  <tbody>\n",
       "    <tr>\n",
       "      <th>0</th>\n",
       "      <td>1572153635412348928</td>\n",
       "      <td>Temática del Mundial: Spirit Blossom.\\n\\nModo ...</td>\n",
       "    </tr>\n",
       "    <tr>\n",
       "      <th>1</th>\n",
       "      <td>1572143232871538695</td>\n",
       "      <td>@papuchochoe Damn, pretty sadge riot is removi...</td>\n",
       "    </tr>\n",
       "    <tr>\n",
       "      <th>2</th>\n",
       "      <td>1572132957321666560</td>\n",
       "      <td>@ExasperatedDan URF again? Why exactly is RIOT...</td>\n",
       "    </tr>\n",
       "    <tr>\n",
       "      <th>3</th>\n",
       "      <td>1572129641015435268</td>\n",
       "      <td>RT @LilithFlorian: @ExasperatedDan So you go t...</td>\n",
       "    </tr>\n",
       "    <tr>\n",
       "      <th>4</th>\n",
       "      <td>1572110856288100353</td>\n",
       "      <td>So we literally have a Nexus Blitz map for the...</td>\n",
       "    </tr>\n",
       "    <tr>\n",
       "      <th>...</th>\n",
       "      <td>...</td>\n",
       "      <td>...</td>\n",
       "    </tr>\n",
       "    <tr>\n",
       "      <th>293</th>\n",
       "      <td>1572095489390301184</td>\n",
       "      <td>RT @CitrusCourier: @NickyBoiYT Nexus Blitz was...</td>\n",
       "    </tr>\n",
       "    <tr>\n",
       "      <th>294</th>\n",
       "      <td>1572082268327542785</td>\n",
       "      <td>If Splatoon 3 have ever taught me anything, it...</td>\n",
       "    </tr>\n",
       "    <tr>\n",
       "      <th>295</th>\n",
       "      <td>1572078768541560832</td>\n",
       "      <td>A Riot é ridícula. Podia trazer Blitz do Nexus...</td>\n",
       "    </tr>\n",
       "    <tr>\n",
       "      <th>296</th>\n",
       "      <td>1572077791146811393</td>\n",
       "      <td>Taking advantage of the thread, I wanted to ta...</td>\n",
       "    </tr>\n",
       "    <tr>\n",
       "      <th>297</th>\n",
       "      <td>1572077273704202242</td>\n",
       "      <td>RT @VictorKeos: Eu rindo pq achei que era meme...</td>\n",
       "    </tr>\n",
       "  </tbody>\n",
       "</table>\n",
       "<p>298 rows × 2 columns</p>\n",
       "</div>"
      ],
      "text/plain": [
       "                      id                                               text\n",
       "0    1572153635412348928  Temática del Mundial: Spirit Blossom.\\n\\nModo ...\n",
       "1    1572143232871538695  @papuchochoe Damn, pretty sadge riot is removi...\n",
       "2    1572132957321666560  @ExasperatedDan URF again? Why exactly is RIOT...\n",
       "3    1572129641015435268  RT @LilithFlorian: @ExasperatedDan So you go t...\n",
       "4    1572110856288100353  So we literally have a Nexus Blitz map for the...\n",
       "..                   ...                                                ...\n",
       "293  1572095489390301184  RT @CitrusCourier: @NickyBoiYT Nexus Blitz was...\n",
       "294  1572082268327542785  If Splatoon 3 have ever taught me anything, it...\n",
       "295  1572078768541560832  A Riot é ridícula. Podia trazer Blitz do Nexus...\n",
       "296  1572077791146811393  Taking advantage of the thread, I wanted to ta...\n",
       "297  1572077273704202242  RT @VictorKeos: Eu rindo pq achei que era meme...\n",
       "\n",
       "[298 rows x 2 columns]"
      ]
     },
     "execution_count": 31,
     "metadata": {},
     "output_type": "execute_result"
    }
   ],
   "source": [
    "tabela.reset_index(drop=True)"
   ]
  }
 ],
 "metadata": {
  "kernelspec": {
   "display_name": "Python 3 (ipykernel)",
   "language": "python",
   "name": "python3"
  },
  "language_info": {
   "codemirror_mode": {
    "name": "ipython",
    "version": 3
   },
   "file_extension": ".py",
   "mimetype": "text/x-python",
   "name": "python",
   "nbconvert_exporter": "python",
   "pygments_lexer": "ipython3",
   "version": "3.9.7"
  }
 },
 "nbformat": 4,
 "nbformat_minor": 5
}
